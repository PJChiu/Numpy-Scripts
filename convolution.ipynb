{
 "cells": [
  {
   "cell_type": "markdown",
   "metadata": {},
   "source": [
    "# Perform multi-channel convolution \n",
    "mainly focusing on the implementation of convolution in convolutional neural network iwth forward pass and backward pass"
   ]
  },
  {
   "cell_type": "code",
   "execution_count": 1,
   "metadata": {},
   "outputs": [],
   "source": [
    "import numpy as np"
   ]
  },
  {
   "cell_type": "markdown",
   "metadata": {},
   "source": [
    "# 2D convolution: forward and backward"
   ]
  },
  {
   "cell_type": "code",
   "execution_count": 2,
   "metadata": {},
   "outputs": [],
   "source": [
    "def conv_2d(x, k):\n",
    "    \"\"\"\n",
    "    Perform 2-D convolution\n",
    "    :param x: input image\n",
    "    :param k: kernel\n",
    "    :return: the result of 2-D convolution\n",
    "    \"\"\"\n",
    "    H, W = x.shape\n",
    "    KH, KW = k.shape\n",
    "\n",
    "    H_out = H - KH + 1\n",
    "    W_out = W - KW + 1\n",
    "\n",
    "    # Convert x into a matrix using indices\n",
    "    i0 = np.repeat(np.arange(KH), KW)\n",
    "    i1 = np.repeat(np.arange(H_out), W_out)\n",
    "    i = i0.reshape(-1, 1) + i1.reshape(1, -1)\n",
    "    # print(i)\n",
    "\n",
    "    j0 = np.tile(np.arange(KW), KH)\n",
    "    j1 = np.tile(np.arange(W_out), H_out)\n",
    "    j = j0.reshape(-1, 1) + j1.reshape(1, -1)\n",
    "    # print(j)\n",
    "\n",
    "    x_crop = x[i, j]\n",
    "\n",
    "    ## flatten kernel \n",
    "    k_crop = k.flatten()\n",
    "\n",
    "    output = k_crop.dot(x_crop).reshape([H_out, W_out])\n",
    "\n",
    "    return output"
   ]
  },
  {
   "cell_type": "markdown",
   "metadata": {},
   "source": [
    "2-D convolution back-propagation"
   ]
  },
  {
   "cell_type": "code",
   "execution_count": 4,
   "metadata": {},
   "outputs": [],
   "source": [
    "def back_propagation_2d(x,k,grad):\n",
    "    x_grad = np.ones_like(x)\n",
    "    k_grad = np.ones_like(k)\n",
    "    k_grad = conv_2d(x, grad)\n",
    "    g_padded = np.pad(grad, ((1, 1), (1, 1)), mode='constant')\n",
    "    k_flip = np.flip(k, 1)\n",
    "    k_flip = np.flip(k_flip, 0)\n",
    "    x_grad = conv_2d(g_padded,k_flip)\n",
    "    return x_grad, k_grad"
   ]
  },
  {
   "cell_type": "code",
   "execution_count": 5,
   "metadata": {},
   "outputs": [
    {
     "name": "stdout",
     "output_type": "stream",
     "text": [
      "[[ 1  3  3  2]\n",
      " [ 4 10 10  6]\n",
      " [ 4 10 10  6]\n",
      " [ 3  7  7  4]]\n",
      "[[54 63]\n",
      " [90 99]]\n"
     ]
    }
   ],
   "source": [
    "x1 = np.arange(1, 17, 1).reshape([4, 4])\n",
    "k1 = np.arange(1, 5, 1).reshape([2, 2])\n",
    "\n",
    "res_conv2d = conv_2d(x1, k1)\n",
    "# grad = np.arange(1,10,1).reshape(res_conv2d.shape)\n",
    "grad1 = np.ones_like(res_conv2d)\n",
    "x_grad, k_grad = back_propagation_2d(x1,k1,grad1)\n",
    "print(x_grad)\n",
    "print(k_grad)"
   ]
  },
  {
   "cell_type": "markdown",
   "metadata": {},
   "source": [
    "# 3-D convolution: forward and backward pass"
   ]
  },
  {
   "cell_type": "code",
   "execution_count": 7,
   "metadata": {},
   "outputs": [],
   "source": [
    "def get_indices(x,k):\n",
    "    B, C1, H, W = x.shape\n",
    "    C2, _, KH, KW = k.shape\n",
    "\n",
    "    H_out = H - KH + 1\n",
    "    W_out = W - KW + 1\n",
    "\n",
    "    i0 = np.repeat(np.arange(KH), KW)\n",
    "    i0 = np.tile(i0, C1)\n",
    "    i1 = np.repeat(np.arange(H_out), W_out)\n",
    "    i = i0.reshape(-1, 1) + i1.reshape(1, -1)\n",
    "\n",
    "    j0 = np.tile(np.arange(KW), KH * C1)\n",
    "    j1 = np.tile(np.arange(W_out), H_out)\n",
    "    j = j0.reshape(-1, 1) + j1.reshape(1, -1)\n",
    "\n",
    "    m = np.repeat(np.arange(C1), KH * KW).reshape(-1, 1)\n",
    "    \n",
    "    return m,i,j"
   ]
  },
  {
   "cell_type": "code",
   "execution_count": 8,
   "metadata": {},
   "outputs": [],
   "source": [
    "def conv_3d(x, k):\n",
    "    \"\"\"\n",
    "    Perform 3-D convolution\n",
    "    :param x: input image with size ([B,C1,H,W]). Otherwise, use np.transpose to reconstruct the shape as formulated.\n",
    "    :param k: kernel with size ([C2,C1,KH,KW]). Otherwise, use np.transpose to reconstruct the shape as formulated.\n",
    "    :return: the result of 3-D convolution in convolutional neural network.\n",
    "    \"\"\"\n",
    "    B, C1, H, W = x.shape\n",
    "    C2, _, KH, KW = k.shape\n",
    "\n",
    "    H_out = H - KH + 1\n",
    "    W_out = W - KW + 1\n",
    "\n",
    "    m,i,j = get_indices(x,k)\n",
    "\n",
    "    x_crop = x[:, m, i, j]\n",
    "    k_crop = k.reshape(C2, -1)\n",
    "\n",
    "    output = k_crop.dot(x_crop).transpose(1, 0, 2)\n",
    "    return output.reshape([B, C2, H_out, W_out])"
   ]
  },
  {
   "cell_type": "code",
   "execution_count": 15,
   "metadata": {},
   "outputs": [
    {
     "data": {
      "text/plain": [
       "array([[[[ 2060,  2138,  2216],\n",
       "         [ 2372,  2450,  2528],\n",
       "         [ 2684,  2762,  2840]],\n",
       "\n",
       "        [[ 4868,  5090,  5312],\n",
       "         [ 5756,  5978,  6200],\n",
       "         [ 6644,  6866,  7088]]],\n",
       "\n",
       "\n",
       "       [[[ 5804,  5882,  5960],\n",
       "         [ 6116,  6194,  6272],\n",
       "         [ 6428,  6506,  6584]],\n",
       "\n",
       "        [[15524, 15746, 15968],\n",
       "         [16412, 16634, 16856],\n",
       "         [17300, 17522, 17744]]]])"
      ]
     },
     "execution_count": 15,
     "metadata": {},
     "output_type": "execute_result"
    }
   ],
   "source": [
    "x2 = np.arange(1, 97, 1).reshape([2, 3, 4, 4])\n",
    "k2 = np.arange(1, 25, 1).reshape([2, 3, 2, 2])\n",
    "\n",
    "res = conv_3d(x2, k2)\n",
    "res"
   ]
  },
  {
   "cell_type": "markdown",
   "metadata": {},
   "source": [
    "3-D back-propagation with looping over the kernel "
   ]
  },
  {
   "cell_type": "code",
   "execution_count": 10,
   "metadata": {},
   "outputs": [],
   "source": [
    "def back_propagation_baseline(x, k, grad):\n",
    "    x_grad = np.zeros_like(x)\n",
    "    k_grad = np.zeros_like(k)\n",
    "    B, H, W, C1 = x.shape\n",
    "    KH, KW, _, C2 = k.shape\n",
    "    Ho = H - KH + 1\n",
    "    Wo = W - KW + 1\n",
    "    ygrad = np.reshape(grad, [-1, C2])\n",
    "\n",
    "    for i in range(KH):\n",
    "        for j in range(KW):\n",
    "            xij = np.matmul(ygrad, k[i, j, :, :].T)\n",
    "            xij = np.reshape(xij, [B, Ho, Wo, C1])\n",
    "            x_grad[:, i:(Ho + i), j:(Wo + j), :] = x_grad[:, i:(Ho + i),\n",
    "                                                   j:(Wo + j), :] + xij\n",
    "            kij = x[:, i:(Ho + i), j:(Wo + j), :]\n",
    "            kij = np.reshape(kij, [-1, C1])\n",
    "            k_grad[i, j, :, :] = k_grad[i, j, :, :] + np.matmul(kij.T, ygrad)\n",
    "\n",
    "    return x_grad, k_grad"
   ]
  },
  {
   "cell_type": "markdown",
   "metadata": {},
   "source": [
    "3-D back-propagation using fancy indices"
   ]
  },
  {
   "cell_type": "code",
   "execution_count": 29,
   "metadata": {},
   "outputs": [],
   "source": [
    "def back_propagation_3d(x, k, grad):\n",
    "    x_grad = np.zeros_like(x)\n",
    "    k_grad = np.zeros_like(k)\n",
    "    \n",
    "    B, C1, H, W = x.shape\n",
    "    C2, _, KH, KW = k.shape\n",
    "    H_out = H - KH + 1\n",
    "    W_out = W - KW + 1\n",
    "\n",
    "    m,i,j = get_indices(x,k)\n",
    "    \n",
    "    x_crop = x[:,m,i,j].transpose(1,2,0).reshape([KH*KW*C1,-1])\n",
    "    y_grad = grad.transpose(1,2,3,0).reshape([C2,-1])\n",
    "    k_grad = y_grad.dot(x_crop.T).reshape(k.shape)\n",
    "    \n",
    "    dx = k.reshape([C2,-1]).T.dot(y_grad)\n",
    "    dx_reshaped =  dx.reshape([C1*KH*KW,-1,B]).transpose(2,0,1)\n",
    "    np.add.at(x_grad, (slice(None),m,i,j), dx_reshaped)\n",
    "    \n",
    "    return x_grad, k_grad"
   ]
  },
  {
   "cell_type": "code",
   "execution_count": 30,
   "metadata": {},
   "outputs": [
    {
     "name": "stdout",
     "output_type": "stream",
     "text": [
      "[[[[ 14  30  30  16]\n",
      "   [ 32  68  68  36]\n",
      "   [ 32  68  68  36]\n",
      "   [ 18  38  38  20]]\n",
      "\n",
      "  [[ 22  46  46  24]\n",
      "   [ 48 100 100  52]\n",
      "   [ 48 100 100  52]\n",
      "   [ 26  54  54  28]]\n",
      "\n",
      "  [[ 30  62  62  32]\n",
      "   [ 64 132 132  68]\n",
      "   [ 64 132 132  68]\n",
      "   [ 34  70  70  36]]]\n",
      "\n",
      "\n",
      " [[[ 14  30  30  16]\n",
      "   [ 32  68  68  36]\n",
      "   [ 32  68  68  36]\n",
      "   [ 18  38  38  20]]\n",
      "\n",
      "  [[ 22  46  46  24]\n",
      "   [ 48 100 100  52]\n",
      "   [ 48 100 100  52]\n",
      "   [ 26  54  54  28]]\n",
      "\n",
      "  [[ 30  62  62  32]\n",
      "   [ 64 132 132  68]\n",
      "   [ 64 132 132  68]\n",
      "   [ 34  70  70  36]]]]\n",
      "**************************************************\n",
      "[[[[ 540  558]\n",
      "   [ 612  630]]\n",
      "\n",
      "  [[ 828  846]\n",
      "   [ 900  918]]\n",
      "\n",
      "  [[1116 1134]\n",
      "   [1188 1206]]]\n",
      "\n",
      "\n",
      " [[[ 540  558]\n",
      "   [ 612  630]]\n",
      "\n",
      "  [[ 828  846]\n",
      "   [ 900  918]]\n",
      "\n",
      "  [[1116 1134]\n",
      "   [1188 1206]]]]\n"
     ]
    }
   ],
   "source": [
    "x3 = x2.transpose(0, 2, 3, 1)\n",
    "k3 = k2.transpose(2, 3, 1, 0)\n",
    "grad = np.ones_like(res).transpose(0, 2, 3, 1)\n",
    "\n",
    "# print(x3.shape, k3.shape, grad.shape)\n",
    "x_grad_baseline, k_grad_baseline = back_propagation_baseline(x3, k3, grad)\n",
    "print(x_grad_baseline.transpose(0,3,1,2))\n",
    "print('*' * 50)\n",
    "print(k_grad_baseline.transpose(3,2,0,1))"
   ]
  },
  {
   "cell_type": "code",
   "execution_count": 31,
   "metadata": {},
   "outputs": [
    {
     "name": "stdout",
     "output_type": "stream",
     "text": [
      "[[[[ 14  30  30  16]\n",
      "   [ 32  68  68  36]\n",
      "   [ 32  68  68  36]\n",
      "   [ 18  38  38  20]]\n",
      "\n",
      "  [[ 22  46  46  24]\n",
      "   [ 48 100 100  52]\n",
      "   [ 48 100 100  52]\n",
      "   [ 26  54  54  28]]\n",
      "\n",
      "  [[ 30  62  62  32]\n",
      "   [ 64 132 132  68]\n",
      "   [ 64 132 132  68]\n",
      "   [ 34  70  70  36]]]\n",
      "\n",
      "\n",
      " [[[ 14  30  30  16]\n",
      "   [ 32  68  68  36]\n",
      "   [ 32  68  68  36]\n",
      "   [ 18  38  38  20]]\n",
      "\n",
      "  [[ 22  46  46  24]\n",
      "   [ 48 100 100  52]\n",
      "   [ 48 100 100  52]\n",
      "   [ 26  54  54  28]]\n",
      "\n",
      "  [[ 30  62  62  32]\n",
      "   [ 64 132 132  68]\n",
      "   [ 64 132 132  68]\n",
      "   [ 34  70  70  36]]]]\n",
      "**************************************************\n",
      "[[[[ 540  558]\n",
      "   [ 612  630]]\n",
      "\n",
      "  [[ 828  846]\n",
      "   [ 900  918]]\n",
      "\n",
      "  [[1116 1134]\n",
      "   [1188 1206]]]\n",
      "\n",
      "\n",
      " [[[ 540  558]\n",
      "   [ 612  630]]\n",
      "\n",
      "  [[ 828  846]\n",
      "   [ 900  918]]\n",
      "\n",
      "  [[1116 1134]\n",
      "   [1188 1206]]]]\n"
     ]
    }
   ],
   "source": [
    "x4 = x2\n",
    "k4 = k2\n",
    "grad4 = np.ones_like(res)\n",
    "\n",
    "x_grad, k_grad = back_propagation_3d(x4, k4, grad4)\n",
    "\n",
    "print(x_grad)\n",
    "print('*' * 50)\n",
    "print(k_grad)"
   ]
  },
  {
   "cell_type": "code",
   "execution_count": 32,
   "metadata": {},
   "outputs": [
    {
     "data": {
      "text/plain": [
       "True"
      ]
     },
     "execution_count": 32,
     "metadata": {},
     "output_type": "execute_result"
    }
   ],
   "source": [
    "x_grad.all()==x_grad_baseline.all()"
   ]
  },
  {
   "cell_type": "code",
   "execution_count": 33,
   "metadata": {},
   "outputs": [
    {
     "data": {
      "text/plain": [
       "True"
      ]
     },
     "execution_count": 33,
     "metadata": {},
     "output_type": "execute_result"
    }
   ],
   "source": [
    "k_grad.all()==k_grad_baseline.all()"
   ]
  }
 ],
 "metadata": {
  "kernelspec": {
   "display_name": "Python 3",
   "language": "python",
   "name": "python3"
  },
  "language_info": {
   "codemirror_mode": {
    "name": "ipython",
    "version": 3
   },
   "file_extension": ".py",
   "mimetype": "text/x-python",
   "name": "python",
   "nbconvert_exporter": "python",
   "pygments_lexer": "ipython3",
   "version": "3.7.3"
  }
 },
 "nbformat": 4,
 "nbformat_minor": 2
}
